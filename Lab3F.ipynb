{
 "cells": [
  {
   "cell_type": "code",
   "execution_count": 2,
   "metadata": {},
   "outputs": [],
   "source": [
    "import logging\n",
    "from itertools import combinations\n",
    "import pandas as pd\n",
    "import numpy as np\n",
    "from geopy.distance import geodesic\n",
    "import random\n",
    "import networkx as nx\n",
    "\n",
    "\n",
    "from icecream import ic\n",
    "\n",
    "logging.basicConfig(level=logging.DEBUG)"
   ]
  },
  {
   "cell_type": "markdown",
   "metadata": {},
   "source": [
    "## Read the file and properly initialize data structures"
   ]
  },
  {
   "cell_type": "code",
   "execution_count": 3,
   "metadata": {},
   "outputs": [
    {
     "data": {
      "text/html": [
       "<div>\n",
       "<style scoped>\n",
       "    .dataframe tbody tr th:only-of-type {\n",
       "        vertical-align: middle;\n",
       "    }\n",
       "\n",
       "    .dataframe tbody tr th {\n",
       "        vertical-align: top;\n",
       "    }\n",
       "\n",
       "    .dataframe thead th {\n",
       "        text-align: right;\n",
       "    }\n",
       "</style>\n",
       "<table border=\"1\" class=\"dataframe\">\n",
       "  <thead>\n",
       "    <tr style=\"text-align: right;\">\n",
       "      <th></th>\n",
       "      <th>name</th>\n",
       "      <th>lat</th>\n",
       "      <th>lon</th>\n",
       "    </tr>\n",
       "  </thead>\n",
       "  <tbody>\n",
       "    <tr>\n",
       "      <th>0</th>\n",
       "      <td>Ancona</td>\n",
       "      <td>43.60</td>\n",
       "      <td>13.50</td>\n",
       "    </tr>\n",
       "    <tr>\n",
       "      <th>1</th>\n",
       "      <td>Andria</td>\n",
       "      <td>41.23</td>\n",
       "      <td>16.29</td>\n",
       "    </tr>\n",
       "    <tr>\n",
       "      <th>2</th>\n",
       "      <td>Bari</td>\n",
       "      <td>41.12</td>\n",
       "      <td>16.87</td>\n",
       "    </tr>\n",
       "    <tr>\n",
       "      <th>3</th>\n",
       "      <td>Bergamo</td>\n",
       "      <td>45.70</td>\n",
       "      <td>9.67</td>\n",
       "    </tr>\n",
       "    <tr>\n",
       "      <th>4</th>\n",
       "      <td>Bologna</td>\n",
       "      <td>44.50</td>\n",
       "      <td>11.34</td>\n",
       "    </tr>\n",
       "  </tbody>\n",
       "</table>\n",
       "</div>"
      ],
      "text/plain": [
       "      name    lat    lon\n",
       "0   Ancona  43.60  13.50\n",
       "1   Andria  41.23  16.29\n",
       "2     Bari  41.12  16.87\n",
       "3  Bergamo  45.70   9.67\n",
       "4  Bologna  44.50  11.34"
      ]
     },
     "execution_count": 3,
     "metadata": {},
     "output_type": "execute_result"
    }
   ],
   "source": [
    "CITIES = pd.read_csv('cities/italy.csv', header=None, names=['name', 'lat', 'lon'])\n",
    "DIST_MATRIX = np.zeros((len(CITIES), len(CITIES)))\n",
    "for c1, c2 in combinations(CITIES.itertuples(), 2):\n",
    "    DIST_MATRIX[c1.Index, c2.Index] = DIST_MATRIX[c2.Index, c1.Index] = geodesic(\n",
    "        (c1.lat, c1.lon), (c2.lat, c2.lon)\n",
    "    ).km\n",
    "CITIES.head()"
   ]
  },
  {
   "cell_type": "code",
   "execution_count": 4,
   "metadata": {},
   "outputs": [
    {
     "name": "stderr",
     "output_type": "stream",
     "text": [
      "ic| median: np.float64(367.0694334013403)\n"
     ]
    },
    {
     "data": {
      "text/plain": [
       "True"
      ]
     },
     "execution_count": 4,
     "metadata": {},
     "output_type": "execute_result"
    }
   ],
   "source": [
    "#Used as stopping criteria for the EA algorithm\n",
    "best_results = [1345.54,4172.76,32722,39016]\n",
    "def tsp_cost(tsp):\n",
    "    assert tsp[0] == tsp[-1]\n",
    "    cluster_set = set(tsp[:-1])  # Escludi l'ultima città (uguale alla prima)\n",
    "    tot_cost = 0\n",
    "    for c1, c2 in zip(tsp, tsp[1:]):\n",
    "        tot_cost += DIST_MATRIX[c1, c2]\n",
    "    return tot_cost if cluster_set.issubset(set(range(len(CITIES)))) else float('inf')\n",
    "\n",
    "def fitness(solution):\n",
    "    return -tsp_cost(solution)\n",
    "\n",
    "median = np.median(DIST_MATRIX.reshape(1, -1))\n",
    "ic(median)\n",
    "DIST_MATRIX[DIST_MATRIX > median] = np.inf\n",
    "G = nx.Graph()\n",
    "for c1, c2 in combinations(CITIES.itertuples(), 2):\n",
    "    if DIST_MATRIX[c1.Index, c2.Index] <= median:\n",
    "        G.add_edge(c1, c2)\n",
    "nx.is_connected(G)\n"
   ]
  },
  {
   "cell_type": "markdown",
   "metadata": {},
   "source": [
    "## Path from A to B\n",
    "Randomly extract two cities in the Italian csv file of cities and find a path between them, consider two cities A and B connected only if their distance is not np.inf()."
   ]
  },
  {
   "cell_type": "code",
   "execution_count": null,
   "metadata": {},
   "outputs": [
    {
     "name": "stdout",
     "output_type": "stream",
     "text": [
      "Starting city: 16 Destination city: 36\n",
      "[16, 36] 344.66168759909914\n"
     ]
    }
   ],
   "source": [
    "# Assuming CITIES is a list of cities and DIST_MATRIX is a distance matrix\n",
    "A, B = random.sample(range(len(CITIES)), 2)\n",
    "print(\"Starting city:\", A, \"Destination city:\", B)\n",
    "\n",
    "\n",
    "#The graph is connected, there exists for sure a path from A to B\n",
    "#Try to find it with Dijkstra\n",
    "def dijkstra_path(A, B, DIST_MATRIX):\n",
    "    n = len(DIST_MATRIX)\n",
    "    dist = [np.inf] * n\n",
    "    dist[A] = 0\n",
    "    prev = [None] * n\n",
    "    unvisited = set(range(n))\n",
    "\n",
    "    while unvisited:\n",
    "        current = min(unvisited, key=lambda x: dist[x])\n",
    "        unvisited.remove(current)\n",
    "\n",
    "        if dist[current] == np.inf or current == B:\n",
    "            break\n",
    "\n",
    "        for neighbor in range(n):\n",
    "            if neighbor in unvisited and DIST_MATRIX[current, neighbor] != np.inf:\n",
    "                alt = dist[current] + DIST_MATRIX[current, neighbor]\n",
    "                if alt < dist[neighbor]:\n",
    "                    dist[neighbor] = alt\n",
    "                    prev[neighbor] = current\n",
    "\n",
    "    path = []\n",
    "    u = B\n",
    "    if prev[u] is not None or u == A:\n",
    "        while u is not None:\n",
    "            path.insert(0, u)\n",
    "            u = prev[u]\n",
    "    return path, dist[B]\n",
    "\n",
    "#The solution found with Dijkstra should be the best one in terms of costs\n",
    "path,cost = dijkstra_path(A,B,DIST_MATRIX)\n",
    "print(path,cost)\n"
   ]
  }
 ],
 "metadata": {
  "kernelspec": {
   "display_name": "venv",
   "language": "python",
   "name": "python3"
  },
  "language_info": {
   "codemirror_mode": {
    "name": "ipython",
    "version": 3
   },
   "file_extension": ".py",
   "mimetype": "text/x-python",
   "name": "python",
   "nbconvert_exporter": "python",
   "pygments_lexer": "ipython3",
   "version": "3.11.5"
  }
 },
 "nbformat": 4,
 "nbformat_minor": 2
}
